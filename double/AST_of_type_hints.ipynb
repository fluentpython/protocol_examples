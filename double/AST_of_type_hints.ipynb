{
 "cells": [
  {
   "cell_type": "markdown",
   "id": "89bf6bd5-67a0-40cc-86f7-afa2bba0a15e",
   "metadata": {},
   "source": [
    "# AST of type hints\n",
    "\n",
    "* [What's new in Python 3.12: type parameter syntax](https://docs.python.org/3/whatsnew/3.12.html#pep-695-type-parameter-syntax)\n"
   ]
  },
  {
   "cell_type": "code",
   "execution_count": 1,
   "id": "e75f3540-a8a9-43bb-a7f1-8ee57989b016",
   "metadata": {},
   "outputs": [
    {
     "name": "stdout",
     "output_type": "stream",
     "text": [
      "Module(\n",
      "    body=[\n",
      "        FunctionDef(\n",
      "            name='double_any',\n",
      "            args=arguments(\n",
      "                posonlyargs=[],\n",
      "                args=[\n",
      "                    arg(\n",
      "                        arg='x',\n",
      "                        annotation=Name(id='T', ctx=Load()))],\n",
      "                kwonlyargs=[],\n",
      "                kw_defaults=[],\n",
      "                defaults=[]),\n",
      "            body=[\n",
      "                Return(\n",
      "                    value=BinOp(\n",
      "                        left=Name(id='x', ctx=Load()),\n",
      "                        op=Mult(),\n",
      "                        right=Constant(value=2)))],\n",
      "            decorator_list=[],\n",
      "            returns=Name(id='T', ctx=Load()),\n",
      "            type_params=[\n",
      "                TypeVar(name='T')])],\n",
      "    type_ignores=[])\n"
     ]
    }
   ],
   "source": [
    "def double_any[T](x: T) -> T:\n",
    "    return x * 2\n",
    "\n",
    "import ast, inspect\n",
    "tree = ast.parse(inspect.getsource(double_any))\n",
    "print(ast.dump(tree, indent=4))"
   ]
  },
  {
   "cell_type": "code",
   "execution_count": 2,
   "id": "db8d6dc6-02cc-4ca6-8402-3060699859bf",
   "metadata": {},
   "outputs": [],
   "source": [
    "from collections.abc import Sequence\n",
    "\n",
    "import typing\n",
    "\n",
    "class Repeatable[T](typing.Protocol):\n",
    "    def __mul__(self: T, repeat_count: int) -> T: ...\n",
    "\n",
    "def double_with_type_param[T: Repeatable](x: T) -> T:\n",
    "    return x * 2\n"
   ]
  },
  {
   "cell_type": "code",
   "execution_count": 3,
   "id": "6eb3a92a-3bd7-44c7-828c-e0ed9eb4103d",
   "metadata": {},
   "outputs": [
    {
     "name": "stdout",
     "output_type": "stream",
     "text": [
      "Module(\n",
      "    body=[\n",
      "        FunctionDef(\n",
      "            name='double_with_type_param',\n",
      "            args=arguments(\n",
      "                posonlyargs=[],\n",
      "                args=[\n",
      "                    arg(\n",
      "                        arg='x',\n",
      "                        annotation=Name(id='T', ctx=Load()))],\n",
      "                kwonlyargs=[],\n",
      "                kw_defaults=[],\n",
      "                defaults=[]),\n",
      "            body=[\n",
      "                Return(\n",
      "                    value=BinOp(\n",
      "                        left=Name(id='x', ctx=Load()),\n",
      "                        op=Mult(),\n",
      "                        right=Constant(value=2)))],\n",
      "            decorator_list=[],\n",
      "            returns=Name(id='T', ctx=Load()),\n",
      "            type_params=[\n",
      "                TypeVar(\n",
      "                    name='T',\n",
      "                    bound=Name(id='Repeatable', ctx=Load()))])],\n",
      "    type_ignores=[])\n"
     ]
    }
   ],
   "source": [
    "import ast, inspect\n",
    "tree = ast.parse(inspect.getsource(double_with_type_param))\n",
    "print(ast.dump(tree, indent=4))"
   ]
  },
  {
   "cell_type": "code",
   "execution_count": 4,
   "id": "87a20d07-2efd-4b97-a061-86bfe1d5ded5",
   "metadata": {},
   "outputs": [],
   "source": [
    "from typing import TypeVar\n",
    "\n",
    "T = TypeVar('T')\n",
    "\n",
    "def double_generic(x: Sequence[T]) -> Sequence[T]:\n",
    "    return x * 2\n"
   ]
  },
  {
   "cell_type": "code",
   "execution_count": 5,
   "id": "8ae89656-0cfd-4d5c-89e6-938be9ceebd1",
   "metadata": {},
   "outputs": [
    {
     "name": "stdout",
     "output_type": "stream",
     "text": [
      "Module(\n",
      "    body=[\n",
      "        ImportFrom(\n",
      "            module='typing',\n",
      "            names=[\n",
      "                alias(name='TypeVar')],\n",
      "            level=0),\n",
      "        Assign(\n",
      "            targets=[\n",
      "                Name(id='T', ctx=Store())],\n",
      "            value=Call(\n",
      "                func=Name(id='TypeVar', ctx=Load()),\n",
      "                args=[\n",
      "                    Constant(value='T')],\n",
      "                keywords=[])),\n",
      "        FunctionDef(\n",
      "            name='double_generic',\n",
      "            args=arguments(\n",
      "                posonlyargs=[],\n",
      "                args=[\n",
      "                    arg(\n",
      "                        arg='x',\n",
      "                        annotation=Subscript(\n",
      "                            value=Name(id='Sequence', ctx=Load()),\n",
      "                            slice=Name(id='T', ctx=Load()),\n",
      "                            ctx=Load()))],\n",
      "                kwonlyargs=[],\n",
      "                kw_defaults=[],\n",
      "                defaults=[]),\n",
      "            body=[\n",
      "                Return(\n",
      "                    value=BinOp(\n",
      "                        left=Name(id='x', ctx=Load()),\n",
      "                        op=Mult(),\n",
      "                        right=Constant(value=2)))],\n",
      "            decorator_list=[],\n",
      "            returns=Subscript(\n",
      "                value=Name(id='Sequence', ctx=Load()),\n",
      "                slice=Name(id='T', ctx=Load()),\n",
      "                ctx=Load()),\n",
      "            type_params=[])],\n",
      "    type_ignores=[])\n"
     ]
    }
   ],
   "source": [
    "tree = ast.parse(_ih[-2])\n",
    "print(ast.dump(tree, indent=4))"
   ]
  },
  {
   "cell_type": "code",
   "execution_count": 6,
   "id": "972943e3-5c5e-4129-8157-798250aa705c",
   "metadata": {},
   "outputs": [
    {
     "name": "stdout",
     "output_type": "stream",
     "text": [
      "from typing import TypeVar\n",
      "T = TypeVar('T')\n",
      "\n",
      "def double_generic(x: Sequence[T]) -> Sequence[T]:\n",
      "    return x * 2\n"
     ]
    }
   ],
   "source": [
    "print(ast.unparse(tree))"
   ]
  },
  {
   "cell_type": "code",
   "execution_count": 7,
   "id": "a576d28f-198c-4aa6-b21e-aa3a4361ff1f",
   "metadata": {},
   "outputs": [
    {
     "name": "stdout",
     "output_type": "stream",
     "text": [
      "Module(\n",
      "    body=[\n",
      "        FunctionDef(\n",
      "            name='double_with_type_param',\n",
      "            args=arguments(\n",
      "                posonlyargs=[],\n",
      "                args=[\n",
      "                    arg(\n",
      "                        arg='x',\n",
      "                        annotation=Name(id='T', ctx=Load()))],\n",
      "                kwonlyargs=[],\n",
      "                kw_defaults=[],\n",
      "                defaults=[]),\n",
      "            body=[\n",
      "                Return(\n",
      "                    value=BinOp(\n",
      "                        left=Name(id='x', ctx=Load()),\n",
      "                        op=Mult(),\n",
      "                        right=Constant(value=2)))],\n",
      "            decorator_list=[],\n",
      "            returns=Name(id='T', ctx=Load()),\n",
      "            type_params=[\n",
      "                TypeVar(\n",
      "                    name='T',\n",
      "                    bound=Name(id='Repeatable', ctx=Load()))])],\n",
      "    type_ignores=[])\n"
     ]
    }
   ],
   "source": [
    "tree = ast.parse(inspect.getsource(double_with_type_param))\n",
    "print(ast.dump(tree, indent=4))"
   ]
  },
  {
   "cell_type": "code",
   "execution_count": 8,
   "id": "124d7d11-6b13-4bc7-8387-2a0315dde37f",
   "metadata": {},
   "outputs": [
    {
     "data": {
      "text/plain": [
       "(ast.TypeVar, 'T', <ast.Name at 0x74b3f4d5c710>)"
      ]
     },
     "execution_count": 8,
     "metadata": {},
     "output_type": "execute_result"
    }
   ],
   "source": [
    "from ast import Module, FunctionDef\n",
    "\n",
    "match tree:\n",
    "    case Module(body=[FunctionDef(type_params=tps)]):\n",
    "        tv=tps[0]\n",
    "        \n",
    "type(tv), tv.name, tv.bound"
   ]
  },
  {
   "cell_type": "code",
   "execution_count": 9,
   "id": "b2750111-c787-4dce-a875-cc2821068760",
   "metadata": {},
   "outputs": [
    {
     "name": "stdout",
     "output_type": "stream",
     "text": [
      "_attributes\t('lineno', 'col_offset', 'end_lineno', 'end_col_offset')\n",
      "_fields\t('name', 'bound')\n",
      "bound\t<ast.Name object at 0x74b3f4d5c710>\n",
      "col_offset\t27\n",
      "end_col_offset\t40\n",
      "end_lineno\t1\n",
      "lineno\t1\n",
      "name\tT\n"
     ]
    }
   ],
   "source": [
    "for name in dir(tv):\n",
    "    if name.startswith('__'): continue\n",
    "    print(f'{name}\\t{getattr(tv, name)}')"
   ]
  },
  {
   "cell_type": "code",
   "execution_count": 10,
   "id": "622fec71-c71e-4ab0-847a-a954cdcf2650",
   "metadata": {},
   "outputs": [
    {
     "data": {
      "text/plain": [
       "('name', 'bound')"
      ]
     },
     "execution_count": 10,
     "metadata": {},
     "output_type": "execute_result"
    }
   ],
   "source": [
    "tv._fields"
   ]
  }
 ],
 "metadata": {
  "kernelspec": {
   "display_name": "Python 3 (ipykernel)",
   "language": "python",
   "name": "python3"
  },
  "language_info": {
   "codemirror_mode": {
    "name": "ipython",
    "version": 3
   },
   "file_extension": ".py",
   "mimetype": "text/x-python",
   "name": "python",
   "nbconvert_exporter": "python",
   "pygments_lexer": "ipython3",
   "version": "3.12.2"
  }
 },
 "nbformat": 4,
 "nbformat_minor": 5
}
