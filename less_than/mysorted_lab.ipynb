{
 "cells": [
  {
   "cell_type": "code",
   "execution_count": 1,
   "metadata": {},
   "outputs": [],
   "source": [
    "given = [u'mango', u'pear', u'apple', u'kiwi', u'banana']"
   ]
  },
  {
   "cell_type": "code",
   "execution_count": 2,
   "metadata": {},
   "outputs": [
    {
     "name": "stdout",
     "output_type": "stream",
     "text": [
      "banana\t27\t[1, 0, 13, 0, 13, 0]\n",
      "pear\t36\t[15, 4, 0, 17]\n",
      "mango\t45\t[12, 0, 13, 6, 14]\n",
      "apple\t45\t[0, 15, 15, 11, 4]\n",
      "kiwi\t48\t[10, 8, 22, 8]\n"
     ]
    }
   ],
   "source": [
    "def value(c):\n",
    "    return ord(c.upper()) - ord('A')\n",
    "\n",
    "def weight(t):\n",
    "    return sum(value(c) for c in t)\n",
    "\n",
    "for word in sorted(given, key=weight):\n",
    "    codes = [value(c) for c in word]\n",
    "    print(word, weight(word), codes, sep='\\t')"
   ]
  },
  {
   "cell_type": "code",
   "execution_count": 3,
   "metadata": {},
   "outputs": [
    {
     "data": {
      "text/plain": [
       "['banana', 'pear', 'mango', 'apple', 'kiwi']"
      ]
     },
     "execution_count": 3,
     "metadata": {},
     "output_type": "execute_result"
    }
   ],
   "source": [
    "sorted(given, key=weight)"
   ]
  },
  {
   "cell_type": "code",
   "execution_count": null,
   "metadata": {},
   "outputs": [],
   "source": []
  }
 ],
 "metadata": {
  "kernelspec": {
   "display_name": "Python 3",
   "language": "python",
   "name": "python3"
  },
  "language_info": {
   "codemirror_mode": {
    "name": "ipython",
    "version": 3
   },
   "file_extension": ".py",
   "mimetype": "text/x-python",
   "name": "python",
   "nbconvert_exporter": "python",
   "pygments_lexer": "ipython3",
   "version": "3.8.0"
  }
 },
 "nbformat": 4,
 "nbformat_minor": 2
}
